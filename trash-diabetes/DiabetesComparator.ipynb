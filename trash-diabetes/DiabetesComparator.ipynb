{
 "cells": [
  {
   "metadata": {},
   "cell_type": "markdown",
   "source": "COMPARATIVE MODEL",
   "id": "675e112273d8ed6a"
  },
  {
   "metadata": {
    "ExecuteTime": {
     "end_time": "2025-05-10T10:16:35.892179Z",
     "start_time": "2025-05-10T10:16:35.882006Z"
    }
   },
   "cell_type": "code",
   "source": [
    "import pandas as pd\n",
    "import numpy as np\n",
    "import matplotlib.pyplot as plt\n",
    "import seaborn as sns\n",
    "from sklearn.model_selection import train_test_split, cross_val_score\n",
    "from sklearn.preprocessing import StandardScaler\n",
    "from sklearn.ensemble import RandomForestClassifier\n",
    "from sklearn.svm import SVC\n",
    "from sklearn.neighbors import KNeighborsClassifier\n",
    "from sklearn.linear_model import LogisticRegression\n",
    "from sklearn.naive_bayes import GaussianNB\n",
    "from sklearn.tree import DecisionTreeClassifier\n",
    "from sklearn.neural_network import MLPClassifier\n",
    "from sklearn.metrics import accuracy_score, precision_score, recall_score, f1_score, roc_auc_score\n",
    "from sklearn.metrics import matthews_corrcoef, cohen_kappa_score, classification_report"
   ],
   "id": "initial_id",
   "outputs": [],
   "execution_count": 2
  },
  {
   "metadata": {
    "ExecuteTime": {
     "end_time": "2025-05-10T10:16:38.221969Z",
     "start_time": "2025-05-10T10:16:37.772272Z"
    }
   },
   "cell_type": "code",
   "source": [
    "data = pd.read_csv('../dataset/cdc_diabetes_health_indicators.csv')\n",
    "\n",
    "# Preprocessing\n",
    "X = data.drop('target', axis=1)  # Menggunakan 'target' sebagai nama kolom target\n",
    "if 'ID' in X.columns:\n",
    "    X = X.drop('ID', axis=1)\n",
    "y = data['target']  # Menggunakan 'target' sebagai nama kolom target\n",
    "\n",
    "# Normalisasi data\n",
    "scaler = StandardScaler()\n",
    "X_scaled = scaler.fit_transform(X)\n",
    "\n",
    "# Split data\n",
    "X_train, X_test, y_train, y_test = train_test_split(X_scaled, y, test_size=0.25, random_state=42, stratify=y)\n"
   ],
   "id": "5a87a270a6821c8e",
   "outputs": [],
   "execution_count": 3
  },
  {
   "metadata": {
    "ExecuteTime": {
     "end_time": "2025-05-10T10:16:39.562883Z",
     "start_time": "2025-05-10T10:16:39.554045Z"
    }
   },
   "cell_type": "code",
   "source": [
    "# Definisikan berbagai model untuk perbandingan\n",
    "models = {\n",
    "    'Logistic Regression': LogisticRegression(random_state=42, max_iter=1000),\n",
    "    'Random Forest': RandomForestClassifier(n_estimators=100, random_state=42),\n",
    "    'SVM (Linear)': SVC(kernel='linear', probability=True, random_state=42),\n",
    "    'SVM (RBF)': SVC(kernel='rbf', probability=True, random_state=42),\n",
    "    'KNN': KNeighborsClassifier(n_neighbors=5),\n",
    "    'Naive Bayes': GaussianNB(),\n",
    "    'Decision Tree': DecisionTreeClassifier(random_state=42),\n",
    "    'MLP Neural Network': MLPClassifier(hidden_layer_sizes=(100,), max_iter=1000, random_state=42)\n",
    "}\n",
    "\n",
    "# Dictionary untuk menyimpan hasil\n",
    "results = {\n",
    "    'Model': [],\n",
    "    'Accuracy': [],\n",
    "    'Precision': [],\n",
    "    'Recall': [],\n",
    "    'F1-Score': [],\n",
    "    'ROC AUC': [],\n",
    "    'MCC': [],\n",
    "    'Kappa': []\n",
    "}"
   ],
   "id": "c8f30bf12358fb4f",
   "outputs": [],
   "execution_count": 4
  },
  {
   "metadata": {
    "jupyter": {
     "is_executing": true
    },
    "ExecuteTime": {
     "start_time": "2025-05-10T10:16:41.791387Z"
    }
   },
   "cell_type": "code",
   "source": [
    "# Evaluasi semua model\n",
    "print(\"=== Evaluasi Berbagai Model untuk Perbandingan ===\")\n",
    "for name, model in models.items():\n",
    "    print(f\"\\nEvaluasi model: {name}\")\n",
    "\n",
    "    # Train model\n",
    "    model.fit(X_train, y_train)\n",
    "\n",
    "    # Evaluasi pada test set\n",
    "    y_pred = model.predict(X_test)\n",
    "    y_pred_proba = model.predict_proba(X_test)[:, 1] if hasattr(model, \"predict_proba\") else y_pred\n",
    "\n",
    "    # Hitung metrik\n",
    "    accuracy = accuracy_score(y_test, y_pred)\n",
    "    precision = precision_score(y_test, y_pred)\n",
    "    recall = recall_score(y_test, y_pred)\n",
    "    f1 = f1_score(y_test, y_pred)\n",
    "    roc_auc = roc_auc_score(y_test, y_pred_proba)\n",
    "    mcc = matthews_corrcoef(y_test, y_pred)\n",
    "    kappa = cohen_kappa_score(y_test, y_pred)\n",
    "\n",
    "    # Simpan hasil\n",
    "    results['Model'].append(name)\n",
    "    results['Accuracy'].append(accuracy)\n",
    "    results['Precision'].append(precision)\n",
    "    results['Recall'].append(recall)\n",
    "    results['F1-Score'].append(f1)\n",
    "    results['ROC AUC'].append(roc_auc)\n",
    "    results['MCC'].append(mcc)\n",
    "    results['Kappa'].append(kappa)\n",
    "\n",
    "    # Tampilkan\n",
    "    print(f\"Accuracy: {accuracy:.4f}\")\n",
    "    print(f\"Precision: {precision:.4f}\")\n",
    "    print(f\"Recall: {recall:.4f}\")\n",
    "    print(f\"F1-Score: {f1:.4f}\")\n",
    "    print(f\"ROC AUC: {roc_auc:.4f}\")\n",
    "    print(f\"MCC: {mcc:.4f}\")\n",
    "    print(f\"Kappa: {kappa:.4f}\")"
   ],
   "id": "964a8c0723613aae",
   "outputs": [
    {
     "name": "stdout",
     "output_type": "stream",
     "text": [
      "=== Evaluasi Berbagai Model untuk Perbandingan ===\n",
      "\n",
      "Evaluasi model: Logistic Regression\n",
      "Accuracy: 0.8629\n",
      "Precision: 0.5267\n",
      "Recall: 0.1574\n",
      "F1-Score: 0.2424\n",
      "ROC AUC: 0.8215\n",
      "MCC: 0.2332\n",
      "Kappa: 0.1905\n",
      "\n",
      "Evaluasi model: Random Forest\n",
      "Accuracy: 0.8596\n",
      "Precision: 0.4892\n",
      "Recall: 0.1763\n",
      "F1-Score: 0.2592\n",
      "ROC AUC: 0.7964\n",
      "MCC: 0.2323\n",
      "Kappa: 0.2001\n",
      "\n",
      "Evaluasi model: SVM (Linear)\n"
     ]
    }
   ],
   "execution_count": null
  },
  {
   "metadata": {},
   "cell_type": "code",
   "outputs": [],
   "execution_count": null,
   "source": [
    "# Buat DataFrame hasil\n",
    "results_df = pd.DataFrame(results)\n",
    "print(\"\\n=== Hasil Perbandingan Model ===\")\n",
    "print(results_df)\n",
    "\n",
    "# Simpan hasil perbandingan\n",
    "results_df.to_csv('perbandingan_model_untuk_jurnal.csv', index=False)\n",
    "\n",
    "# Buat tabel untuk jurnal\n",
    "with open('table_perbandingan_untuk_jurnal.txt', 'w') as f:\n",
    "    f.write(\"Table X: Comparison of different machine learning models for diabetes prediction\\n\\n\")\n",
    "    f.write(\"| Model | Accuracy | Precision | Recall | F1-Score | ROC AUC | MCC | Kappa |\\n\")\n",
    "    f.write(\"|-------|----------|-----------|--------|----------|---------|-----|-------|\\n\")\n",
    "\n",
    "    for idx, row in results_df.iterrows():\n",
    "        f.write(f\"| {row['Model']} | {row['Accuracy']:.4f} | {row['Precision']:.4f} | \")\n",
    "        f.write(f\"{row['Recall']:.4f} | {row['F1-Score']:.4f} | {row['ROC AUC']:.4f} | \")\n",
    "        f.write(f\"{row['MCC']:.4f} | {row['Kappa']:.4f} |\\n\")\n",
    "\n",
    "    f.write(\"\\n*Note: All models were trained on the same preprocessed dataset with standardized features.\")"
   ],
   "id": "e1fd6c1d64a39cc4"
  },
  {
   "metadata": {},
   "cell_type": "code",
   "outputs": [],
   "execution_count": null,
   "source": [
    "# Buat visualisasi untuk jurnal\n",
    "plt.figure(figsize=(14, 10))\n",
    "\n",
    "# Plot accuracy\n",
    "plt.subplot(221)\n",
    "sns.barplot(x='Accuracy', y='Model', data=results_df.sort_values('Accuracy'))\n",
    "plt.title('Accuracy Comparison')\n",
    "plt.grid(axis='x', linestyle='--', alpha=0.7)\n",
    "\n",
    "# Plot F1-Score\n",
    "plt.subplot(222)\n",
    "sns.barplot(x='F1-Score', y='Model', data=results_df.sort_values('F1-Score'))\n",
    "plt.title('F1-Score Comparison')\n",
    "plt.grid(axis='x', linestyle='--', alpha=0.7)\n",
    "\n",
    "# Plot ROC AUC\n",
    "plt.subplot(223)\n",
    "sns.barplot(x='ROC AUC', y='Model', data=results_df.sort_values('ROC AUC'))\n",
    "plt.title('ROC AUC Comparison')\n",
    "plt.grid(axis='x', linestyle='--', alpha=0.7)\n",
    "\n",
    "# Plot MCC\n",
    "plt.subplot(224)\n",
    "sns.barplot(x='MCC', y='Model', data=results_df.sort_values('MCC'))\n",
    "plt.title('Matthews Correlation Coefficient (MCC) Comparison')\n",
    "plt.grid(axis='x', linestyle='--', alpha=0.7)\n",
    "\n",
    "plt.tight_layout()\n",
    "plt.savefig('model_comparison_charts.png', dpi=300, bbox_inches='tight')\n",
    "plt.close()\n",
    "\n",
    "# Analisis lebih lanjut - radar chart untuk visual jurnal\n",
    "plt.figure(figsize=(10, 8))\n",
    "\n",
    "# Persiapkan data untuk radar chart\n",
    "models_for_radar = results_df['Model'].tolist()\n",
    "metrics = ['Accuracy', 'Precision', 'Recall', 'F1-Score', 'ROC AUC']\n",
    "\n",
    "# Jumlah metrik dan model\n",
    "angles = np.linspace(0, 2*np.pi, len(metrics), endpoint=False).tolist()\n",
    "angles += angles[:1]  # Tutup lingkaran\n",
    "\n",
    "# Plot untuk setiap model\n",
    "ax = plt.subplot(111, polar=True)\n",
    "for i, model in enumerate(models_for_radar):\n",
    "    values = results_df.loc[i, metrics].tolist()\n",
    "    values += values[:1]  # Tutup lingkaran\n",
    "    ax.plot(angles, values, linewidth=2, label=model)\n",
    "    ax.fill(angles, values, alpha=0.1)\n",
    "\n",
    "# Atur konfigurasi radar chart\n",
    "plt.xticks(angles[:-1], metrics)\n",
    "plt.yticks([0.2, 0.4, 0.6, 0.8, 1.0], ['0.2', '0.4', '0.6', '0.8', '1.0'], color='gray')\n",
    "plt.ylim(0, 1)\n",
    "plt.legend(loc='upper right', bbox_to_anchor=(0.1, 0.1))\n",
    "plt.title('Model Performance Comparison - Radar Chart', size=15)\n",
    "plt.tight_layout()\n",
    "plt.savefig('model_comparison_radar.png', dpi=300, bbox_inches='tight')\n",
    "plt.close()\n",
    "\n",
    "print(\"\\nPerbandingan model selesai! Hasil telah disimpan untuk jurnal.\")\n",
    "print(\"File yang dihasilkan:\")\n",
    "print(\"1. perbandingan_model_untuk_jurnal.csv\")\n",
    "print(\"2. table_perbandingan_untuk_jurnal.txt\")\n",
    "print(\"3. model_comparison_charts.png\")\n",
    "print(\"4. model_comparison_radar.png\")"
   ],
   "id": "6db69b2767661743"
  }
 ],
 "metadata": {
  "kernelspec": {
   "display_name": "Python 3",
   "language": "python",
   "name": "python3"
  },
  "language_info": {
   "codemirror_mode": {
    "name": "ipython",
    "version": 2
   },
   "file_extension": ".py",
   "mimetype": "text/x-python",
   "name": "python",
   "nbconvert_exporter": "python",
   "pygments_lexer": "ipython2",
   "version": "2.7.6"
  }
 },
 "nbformat": 4,
 "nbformat_minor": 5
}
