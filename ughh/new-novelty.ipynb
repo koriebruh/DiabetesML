{
 "cells": [
  {
   "cell_type": "code",
   "execution_count": null,
   "id": "initial_id",
   "metadata": {
    "collapsed": true
   },
   "outputs": [],
   "source": [
    "1. Importdata\n",
    "2. Preprocess data\n",
    "3. Split Train 75 and Test 25\n",
    "4. Exploratory Data Analysis (EDA)\n",
    "5. Feature Selection / Importance\n",
    "6. (Optional) PCA or Autoencoder (dense, not LSTM)\n",
    "7. Train model (XGBoost + cross validation)\n",
    "8. Test model on hold-out test set\n",
    "9. Evaluate (ROC, F1, Confusion matrix, SHAP)"
   ]
  }
 ],
 "metadata": {
  "kernelspec": {
   "display_name": "Python 3",
   "language": "python",
   "name": "python3"
  },
  "language_info": {
   "codemirror_mode": {
    "name": "ipython",
    "version": 2
   },
   "file_extension": ".py",
   "mimetype": "text/x-python",
   "name": "python",
   "nbconvert_exporter": "python",
   "pygments_lexer": "ipython2",
   "version": "2.7.6"
  }
 },
 "nbformat": 4,
 "nbformat_minor": 5
}
